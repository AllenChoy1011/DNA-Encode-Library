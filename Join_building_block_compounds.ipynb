{
 "cells": [
  {
   "cell_type": "code",
   "execution_count": null,
   "id": "27483a25",
   "metadata": {},
   "outputs": [],
   "source": [
    "import pandas as pd\n",
    "import itertools\n",
    "import pprint\n",
    "from itertools import product\n",
    "from itertools import combinations\n",
    "import csv"
   ]
  },
  {
   "cell_type": "code",
   "execution_count": null,
   "id": "5ad4511e",
   "metadata": {},
   "outputs": [],
   "source": [
    "df1 = pd.read_csv(r\"/path/filename.csv\") #compounds in building 1\n",
    "df2 = pd.read_csv(r\"/path/filename.csv\") #compounds in building 2\n",
    "print(df1)\n",
    "print(df2)"
   ]
  },
  {
   "cell_type": "code",
   "execution_count": null,
   "id": "97e55414",
   "metadata": {},
   "outputs": [],
   "source": [
    "#The way to join smiles should depend on the pattern of smile\n",
    "#Example\n",
    "#CNC(=O)[C@@H](O)[C@@H]([NH3+])Cc1ccccc1 #building block 1 \n",
    "#CC(=O)N[C@H](C(=O)NC)[C@@H]1CC=CCC1 #building block 2\n",
    "#CNC(=O)[C@H]([C@@H]1CC=CCC1)NC(=O)[C@@H](O)[C@@H]([NH3+])Cc1ccccc1  #Output should be like that\n",
    "df1_new = df1['BB1'] = df1['BB1'].str.replace('CNC(=O)', '', regex = False) #Step 1: Remove \"CNC(=O)\" \n",
    "print(df1_new)\n",
    "#CNC(=O)[C@@H](O)[C@@H]([NH3+])Cc1ccccc1 > [C@@H](O)[C@@H]([NH3+])Cc1ccccc1\n",
    "df2_new = df2['BB2'] = df2['BB2'].str.replace('CC(=O)N', 'CNC(=O)', regex = False) #Step 2 and 3: Replace 'CC(=O)N' and 'C(=O)NC)'  \n",
    "print(df2_new)\n",
    "df2_new = df2['BB2'] = df2['BB2'].str.replace('C(=O)NC)', '', regex = False)\n",
    "print(df2_new)\n",
    "#CC(=O)N[C@H](C(=O)NC)[C@@H]1CC=CCC1 > CNC(=O)[C@H](C(=O)NC)[C@@H]1CC=CCC1 > CNC(=O)[C@H]([C@@H]1CC=CCC1\n"
   ]
  },
  {
   "cell_type": "code",
   "execution_count": null,
   "id": "3298706a",
   "metadata": {},
   "outputs": [],
   "source": [
    "#output the file\n",
    "df1_new.to_csv('/path/filename.csv', index = False) #BB1\n",
    "df2_new.to_csv('/path/filename.csv', index = False) #BB2"
   ]
  },
  {
   "cell_type": "code",
   "execution_count": null,
   "id": "2da144d9",
   "metadata": {},
   "outputs": [],
   "source": [
    "#read file\n",
    "df3 = pd.read_csv(r'/path/filename.csv') #BB2\n",
    "print(df3)\n",
    "df4 = pd.read_csv(r'/path/filename.csv') #BB1\n",
    "print(df4)\n",
    "join = \")NC(=O)\" #create \")NC(=O)\" and join them to BB2 compounds\n",
    "df3[\"Join\"] = join\n",
    "print(df3)\n",
    "df3[\"BB2_new\"] = df3[\"BB2\"] + df3[\"Join\"]\n",
    "print(df3)"
   ]
  },
  {
   "cell_type": "code",
   "execution_count": null,
   "id": "4abd1231",
   "metadata": {},
   "outputs": [],
   "source": [
    "l_p  = list(itertools.product(df4['BB1'], df3['BB2_new'])) #join BB1 with BB2 compounds in all combination \n",
    "for i in itertools.product(df4['BB1'], df3['BB2_new']):\n",
    "    print('{} {}'.format(*i))"
   ]
  }
 ],
 "metadata": {
  "kernelspec": {
   "display_name": "Python [conda env:my-rdkit-env] *",
   "language": "python",
   "name": "conda-env-my-rdkit-env-py"
  },
  "language_info": {
   "codemirror_mode": {
    "name": "ipython",
    "version": 3
   },
   "file_extension": ".py",
   "mimetype": "text/x-python",
   "name": "python",
   "nbconvert_exporter": "python",
   "pygments_lexer": "ipython3",
   "version": "3.7.15"
  }
 },
 "nbformat": 4,
 "nbformat_minor": 5
}
